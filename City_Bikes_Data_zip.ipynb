{
 "cells": [
  {
   "cell_type": "markdown",
   "metadata": {},
   "source": [
    "***\n",
    "# Tableau City Bikes\n",
    "***"
   ]
  },
  {
   "cell_type": "markdown",
   "metadata": {},
   "source": [
    "### Combining City Bikes Datasets from  [Citi Bike Data](https://www.citibikenyc.com/system-data)"
   ]
  },
  {
   "cell_type": "code",
   "execution_count": 1,
   "metadata": {},
   "outputs": [],
   "source": [
    "# Importing Dependencies\n",
    "import pandas as pd\n",
    "import numpy as np\n",
    "import os "
   ]
  },
  {
   "cell_type": "code",
   "execution_count": 2,
   "metadata": {},
   "outputs": [
    {
     "name": "stdout",
     "output_type": "stream",
     "text": [
      "\n",
      "[1/12]: https://s3.amazonaws.com/tripdata/202001-citibike-tripdata.csv.zip --> 202001-citibike-tripdata.csv.zip\n",
      "--_curl_--https://s3.amazonaws.com/tripdata/202001-citibike-tripdata.csv.zip\n",
      "  % Total    % Received % Xferd  Average Speed   Time    Time     Time  Current\n",
      "                                 Dload  Upload   Total   Spent    Left  Speed\n",
      "100 50.9M  100 50.9M    0     0  33.8M      0  0:00:01  0:00:01 --:--:-- 33.8M\n",
      "\n",
      "[2/12]: https://s3.amazonaws.com/tripdata/202002-citibike-tripdata.csv.zip --> 202002-citibike-tripdata.csv.zip\n",
      "--_curl_--https://s3.amazonaws.com/tripdata/202002-citibike-tripdata.csv.zip\n",
      "  % Total    % Received % Xferd  Average Speed   Time    Time     Time  Current\n",
      "                                 Dload  Upload   Total   Spent    Left  Speed\n",
      "100 47.2M  100 47.2M    0     0  31.4M      0  0:00:01  0:00:01 --:--:-- 31.4M\n",
      "\n",
      "[3/12]: https://s3.amazonaws.com/tripdata/202003-citibike-tripdata.csv.zip --> 202003-citibike-tripdata.csv.zip\n",
      "--_curl_--https://s3.amazonaws.com/tripdata/202003-citibike-tripdata.csv.zip\n",
      "  % Total    % Received % Xferd  Average Speed   Time    Time     Time  Current\n",
      "                                 Dload  Upload   Total   Spent    Left  Speed\n",
      "100 44.4M  100 44.4M    0     0  35.0M      0  0:00:01  0:00:01 --:--:-- 35.0M\n",
      "\n",
      "[4/12]: https://s3.amazonaws.com/tripdata/202004-citibike-tripdata.csv.zip --> 202004-citibike-tripdata.csv.zip\n",
      "--_curl_--https://s3.amazonaws.com/tripdata/202004-citibike-tripdata.csv.zip\n",
      "  % Total    % Received % Xferd  Average Speed   Time    Time     Time  Current\n",
      "                                 Dload  Upload   Total   Spent    Left  Speed\n",
      "100 28.7M  100 28.7M    0     0  37.6M      0 --:--:-- --:--:-- --:--:-- 37.6M\n",
      "\n",
      "[5/12]: https://s3.amazonaws.com/tripdata/202005-citibike-tripdata.csv.zip --> 202005-citibike-tripdata.csv.zip\n",
      "--_curl_--https://s3.amazonaws.com/tripdata/202005-citibike-tripdata.csv.zip\n",
      "  % Total    % Received % Xferd  Average Speed   Time    Time     Time  Current\n",
      "                                 Dload  Upload   Total   Spent    Left  Speed\n",
      "100 62.3M  100 62.3M    0     0  35.4M      0  0:00:01  0:00:01 --:--:-- 35.4M\n",
      "\n",
      "[6/12]: https://s3.amazonaws.com/tripdata/202006-citibike-tripdata.csv.zip --> 202006-citibike-tripdata.csv.zip\n",
      "--_curl_--https://s3.amazonaws.com/tripdata/202006-citibike-tripdata.csv.zip\n",
      "  % Total    % Received % Xferd  Average Speed   Time    Time     Time  Current\n",
      "                                 Dload  Upload   Total   Spent    Left  Speed\n",
      "100 79.5M  100 79.5M    0     0  39.7M      0  0:00:02  0:00:02 --:--:-- 39.7M\n",
      "\n",
      "[7/12]: https://s3.amazonaws.com/tripdata/202007-citibike-tripdata.csv.zip --> 202007-citibike-tripdata.csv.zip\n",
      "--_curl_--https://s3.amazonaws.com/tripdata/202007-citibike-tripdata.csv.zip\n",
      "  % Total    % Received % Xferd  Average Speed   Time    Time     Time  Current\n",
      "                                 Dload  Upload   Total   Spent    Left  Speed\n",
      "100 89.7M  100 89.7M    0     0  40.2M      0  0:00:02  0:00:02 --:--:-- 40.2M\n",
      "\n",
      "[8/12]: https://s3.amazonaws.com/tripdata/202008-citibike-tripdata.csv.zip --> 202008-citibike-tripdata.csv.zip\n",
      "--_curl_--https://s3.amazonaws.com/tripdata/202008-citibike-tripdata.csv.zip\n",
      "  % Total    % Received % Xferd  Average Speed   Time    Time     Time  Current\n",
      "                                 Dload  Upload   Total   Spent    Left  Speed\n",
      "100 99.4M  100 99.4M    0     0  40.4M      0  0:00:02  0:00:02 --:--:-- 40.4M\n",
      "\n",
      "[9/12]: https://s3.amazonaws.com/tripdata/202009-citibike-tripdata.csv.zip --> 202009-citibike-tripdata.csv.zip\n",
      "--_curl_--https://s3.amazonaws.com/tripdata/202009-citibike-tripdata.csv.zip\n",
      "  % Total    % Received % Xferd  Average Speed   Time    Time     Time  Current\n",
      "                                 Dload  Upload   Total   Spent    Left  Speed\n",
      "100  106M  100  106M    0     0  40.9M      0  0:00:02  0:00:02 --:--:-- 40.9M\n",
      "\n",
      "[10/12]: https://s3.amazonaws.com/tripdata/202010-citibike-tripdata.csv.zip --> 202010-citibike-tripdata.csv.zip\n",
      "--_curl_--https://s3.amazonaws.com/tripdata/202010-citibike-tripdata.csv.zip\n",
      "  % Total    % Received % Xferd  Average Speed   Time    Time     Time  Current\n",
      "                                 Dload  Upload   Total   Spent    Left  Speed\n",
      "100 97.1M  100 97.1M    0     0  40.4M      0  0:00:02  0:00:02 --:--:-- 40.4M\n",
      "\n",
      "[11/12]: https://s3.amazonaws.com/tripdata/202011-citibike-tripdata.csv.zip --> 202011-citibike-tripdata.csv.zip\n",
      "--_curl_--https://s3.amazonaws.com/tripdata/202011-citibike-tripdata.csv.zip\n",
      "  % Total    % Received % Xferd  Average Speed   Time    Time     Time  Current\n",
      "                                 Dload  Upload   Total   Spent    Left  Speed\n",
      "100 75.0M  100 75.0M    0     0  36.3M      0  0:00:02  0:00:02 --:--:-- 36.3M\n",
      "\n",
      "[12/12]: https://s3.amazonaws.com/tripdata/202012-citibike-tripdata.csv.zip --> 202012-citibike-tripdata.csv.zip\n",
      "--_curl_--https://s3.amazonaws.com/tripdata/202012-citibike-tripdata.csv.zip\n",
      "  % Total    % Received % Xferd  Average Speed   Time    Time     Time  Current\n",
      "                                 Dload  Upload   Total   Spent    Left  Speed\n",
      "100 47.2M  100 47.2M    0     0  38.6M      0  0:00:01  0:00:01 --:--:-- 38.6M\n",
      "Archive:  202004-citibike-tripdata.csv.zip\n",
      "  inflating: 202004-citibike-tripdata.csv  \n",
      "\n",
      "Archive:  202011-citibike-tripdata.csv.zip\n",
      "  inflating: 202011-citibike-tripdata.csv  \n",
      "  inflating: __MACOSX/._202011-citibike-tripdata.csv  \n",
      "\n",
      "Archive:  202003-citibike-tripdata.csv.zip\n",
      "  inflating: 202003-citibike-tripdata.csv  \n",
      "\n",
      "Archive:  202006-citibike-tripdata.csv.zip\n",
      "  inflating: 202006-citibike-tripdata.csv  \n",
      "  inflating: __MACOSX/._202006-citibike-tripdata.csv  \n",
      "\n",
      "Archive:  202009-citibike-tripdata.csv.zip\n",
      "  inflating: 202009-citibike-tripdata.csv  \n",
      "\n",
      "Archive:  202001-citibike-tripdata.csv.zip\n",
      "  inflating: 202001-citibike-tripdata.csv  \n",
      "\n",
      "Archive:  202008-citibike-tripdata.csv.zip\n",
      "  inflating: 202008-citibike-tripdata.csv  \n",
      "\n",
      "Archive:  202012-citibike-tripdata.csv.zip\n",
      "  inflating: 202012-citibike-tripdata.csv  \n",
      "\n",
      "Archive:  202007-citibike-tripdata.csv.zip\n",
      "  inflating: 202007-citibike-tripdata.csv  \n",
      "\n",
      "Archive:  202002-citibike-tripdata.csv.zip\n",
      "  inflating: 202002-citibike-tripdata.csv  \n",
      "\n",
      "Archive:  202010-citibike-tripdata.csv.zip\n",
      "  inflating: 202010-citibike-tripdata.csv  \n",
      "\n",
      "Archive:  202005-citibike-tripdata.csv.zip\n",
      "  inflating: 202005-citibike-tripdata.csv  \n",
      "\n",
      "12 archives were successfully processed.\n"
     ]
    }
   ],
   "source": [
    "# Reading in url csv zip files from 01-2020 to 12-2020 and unpacking to csv\n",
    "!curl -O \"https://s3.amazonaws.com/tripdata/2020[01-12]-citibike-tripdata.csv.zip\"\n",
    "!unzip '*.zip'\n",
    "!rm *.zip\n",
    "files = !ls *.csv\n",
    "# For python\n",
    "# df = pd.concat([pd.read.csv(f, header=None, low_memory=False) for f in files], keys=files)"
   ]
  },
  {
   "cell_type": "markdown",
   "metadata": {},
   "source": [
    "### Reading Zipped CSV Files into Pandas DataFrame"
   ]
  },
  {
   "cell_type": "code",
   "execution_count": null,
   "metadata": {},
   "outputs": [],
   "source": [
    "# Defining the variable to hold the datasets from the urls\n",
    "files = []\n",
    "\n",
    "# Using for loop to pass in the urls\n",
    "for file in files[:]:\n",
    "    df = pd.read_csv()\n",
    "    files.append(df)"
   ]
  }
 ],
 "metadata": {
  "kernelspec": {
   "display_name": "Python [conda env:PythonData] *",
   "language": "python",
   "name": "conda-env-PythonData-py"
  },
  "language_info": {
   "codemirror_mode": {
    "name": "ipython",
    "version": 3
   },
   "file_extension": ".py",
   "mimetype": "text/x-python",
   "name": "python",
   "nbconvert_exporter": "python",
   "pygments_lexer": "ipython3",
   "version": "3.6.12"
  }
 },
 "nbformat": 4,
 "nbformat_minor": 4
}
