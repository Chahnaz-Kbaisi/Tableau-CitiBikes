{
 "cells": [
  {
   "cell_type": "markdown",
   "metadata": {},
   "source": [
    "***\n",
    "# Tableau City Bikes\n",
    "***"
   ]
  },
  {
   "cell_type": "markdown",
   "metadata": {},
   "source": [
    "### Combining City Bikes Datasets from  [Citi Bike Data](https://www.citibikenyc.com/system-data)"
   ]
  },
  {
   "cell_type": "code",
   "execution_count": 1,
   "metadata": {},
   "outputs": [],
   "source": [
    "# Importing Dependencies\n",
    "import pandas as pd\n",
    "import numpy as np"
   ]
  },
  {
   "cell_type": "code",
   "execution_count": 16,
   "metadata": {},
   "outputs": [
    {
     "data": {
      "text/plain": [
       "[        Trip Duration           Start Time            Stop Time  \\\n",
       " 0                1893  2017-03-01 00:00:32  2017-03-01 00:32:06   \n",
       " 1                 223  2017-03-01 00:01:09  2017-03-01 00:04:53   \n",
       " 2                1665  2017-03-01 00:01:27  2017-03-01 00:29:12   \n",
       " 3                 100  2017-03-01 00:01:29  2017-03-01 00:03:10   \n",
       " 4                1229  2017-03-01 00:01:33  2017-03-01 00:22:02   \n",
       " ...               ...                  ...                  ...   \n",
       " 727660            261  2017-03-31 23:57:12  2017-04-01 00:01:34   \n",
       " 727661            119  2017-03-31 23:59:29  2017-04-01 00:01:28   \n",
       " 727662            451  2017-03-31 23:59:42  2017-04-01 00:07:13   \n",
       " 727663           1032  2017-03-31 23:59:49  2017-04-01 00:17:01   \n",
       " 727664            117  2017-03-29 11:57:54  2017-03-29 11:59:52   \n",
       " \n",
       "         Start Station ID        Start Station Name  Start Station Latitude  \\\n",
       " 0                   2009  Catherine St & Monroe St               40.711174   \n",
       " 1                    127     Barrow St & Hudson St               40.731724   \n",
       " 2                    174           E 25 St & 1 Ave               40.738177   \n",
       " 3                    316    Fulton St & William St               40.709560   \n",
       " 4                    536           1 Ave & E 30 St               40.741444   \n",
       " ...                  ...                       ...                     ...   \n",
       " 727660               482           W 15 St & 7 Ave               40.739355   \n",
       " 727661              3379  E 103 St & Lexington Ave               40.790305   \n",
       " 727662              3224       W 13 St & Hudson St               40.739974   \n",
       " 727663               351      Front St & Maiden Ln               40.705310   \n",
       " 727664              3416           7 Ave & Park Pl               40.677615   \n",
       " \n",
       "         Start Station Longitude  End Station ID         End Station Name  \\\n",
       " 0                    -73.996826             527          E 33 St & 2 Ave   \n",
       " 1                    -74.006744             284    Greenwich Ave & 8 Ave   \n",
       " 2                    -73.977387             307    Canal St & Rutgers St   \n",
       " 3                    -74.006536             306     Cliff St & Fulton St   \n",
       " 4                    -73.975361             259  South St & Whitehall St   \n",
       " ...                         ...             ...                      ...   \n",
       " 727660               -73.999318             509          9 Ave & W 22 St   \n",
       " 727661               -73.947558            3425        2 Ave  & E 104 St   \n",
       " 727662               -74.005139            3259          9 Ave & W 28 St   \n",
       " 727663               -74.006126             302        Avenue D & E 3 St   \n",
       " 727664               -73.973243            3346      Berkeley Pl & 7 Ave   \n",
       " \n",
       "         End Station Latitude  End Station Longitude  Bike ID   User Type  \\\n",
       " 0                  40.744023             -73.976056    27291  Subscriber   \n",
       " 1                  40.739017             -74.002638    19387  Subscriber   \n",
       " 2                  40.714275             -73.989900    15809  Subscriber   \n",
       " 3                  40.708235             -74.005301    18956  Subscriber   \n",
       " 4                  40.701221             -74.012342    25728  Subscriber   \n",
       " ...                      ...                    ...      ...         ...   \n",
       " 727660             40.745497             -74.001971    28366  Subscriber   \n",
       " 727661             40.789210             -73.943708    16315  Subscriber   \n",
       " 727662             40.749370             -73.999234    27996  Subscriber   \n",
       " 727663             40.720828             -73.977932    21097  Subscriber   \n",
       " 727664             40.675147             -73.975232    16750  Subscriber   \n",
       " \n",
       "         Birth Year  Gender  \n",
       " 0           1973.0       2  \n",
       " 1           1985.0       2  \n",
       " 2           1988.0       1  \n",
       " 3           1991.0       1  \n",
       " 4           1963.0       1  \n",
       " ...            ...     ...  \n",
       " 727660      1983.0       1  \n",
       " 727661      1987.0       1  \n",
       " 727662      1974.0       1  \n",
       " 727663      1978.0       1  \n",
       " 727664      1949.0       2  \n",
       " \n",
       " [727665 rows x 15 columns]]"
      ]
     },
     "execution_count": 16,
     "metadata": {},
     "output_type": "execute_result"
    }
   ],
   "source": [
    "# Creating connection to datasets through urls from citi-bike data for 2020\n",
    "urls = [\"https://s3.amazonaws.com/tripdata/JC-201912-citibike-tripdata.csv.zip\",\n",
    "       \"https://s3.amazonaws.com/tripdata/JC-202001-citibike-tripdata.csv.zip\",\n",
    "       ]\n",
    "\n",
    "\n",
    "# Defining the variable to hold the datasets from the urls\n",
    "city_Bikes_dfs = []\n",
    "\n",
    "# Using for loop to pass in the urls\n",
    "for url in urls[:]:\n",
    "    df = pd.read_csv(url ,error_bad_lines=False)\n",
    "    city_Bikes_dfs.append(df)\n",
    "\n",
    "\n",
    "\n",
    "dfs"
   ]
  },
  {
   "cell_type": "code",
   "execution_count": null,
   "metadata": {},
   "outputs": [],
   "source": []
  }
 ],
 "metadata": {
  "kernelspec": {
   "display_name": "Python [conda env:PythonData] *",
   "language": "python",
   "name": "conda-env-PythonData-py"
  },
  "language_info": {
   "codemirror_mode": {
    "name": "ipython",
    "version": 3
   },
   "file_extension": ".py",
   "mimetype": "text/x-python",
   "name": "python",
   "nbconvert_exporter": "python",
   "pygments_lexer": "ipython3",
   "version": "3.6.12"
  }
 },
 "nbformat": 4,
 "nbformat_minor": 4
}
